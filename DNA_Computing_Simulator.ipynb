{
  "nbformat": 4,
  "nbformat_minor": 0,
  "metadata": {
    "colab": {
      "provenance": []
    },
    "kernelspec": {
      "name": "python3",
      "display_name": "Python 3"
    },
    "language_info": {
      "name": "python"
    }
  },
  "cells": [
    {
      "cell_type": "markdown",
      "source": [
        "# **DNA Computing Simulator**\n",
        "\n",
        "This is a simple Python simulator to emulate the logic of Leonard Adleman's 1994 paper that launched the field of DNA Computing.\n",
        "Process\n",
        "\n",
        "The simulator goes through the five steps he laid out in his experiment to solve a Hamiltonian Path problem:\n",
        "\n",
        "    Create DNA strands that encode for the nodes and edges in a graph, and mix them to create all possible paths.\n",
        "    Filter for only those strands that run from the beginning node to the ending node.\n",
        "    Filter for only those strands that have a length of 10N bases, where N is the number of nodes in the graph.\n",
        "    Filter for onlly those strands that touch each node in the graph at least once.\n",
        "    For any strands that remain, decode them back to solve the graph problem.\n",
        "\n",
        "[Start]\n",
        "   ↓\n",
        "(1) Vertex and Edge Strand Creation\n",
        "   - Create DNA sequences for graph nodes (vertices) and connections (edges).\n",
        "   - Output:\n",
        "     * Vertex Strands\n",
        "     * Edge Strands\n",
        "     * Complement Strands\n",
        "\n",
        "   ↓\n",
        "(2) Random Path Creation (Parallel)\n",
        "   - Simulate random mixing of edge strands.\n",
        "   - Iterate over shuffled edges to grow paths using complement matching.\n",
        "   - Parallel: Thousands of paths form simultaneously.\n",
        "   - Output:\n",
        "     * Path Strands (Random Paths)\n",
        "\n",
        "   ↓\n",
        "(3) Start-End Filtering\n",
        "   - Use PCR to keep paths starting and ending at correct nodes.\n",
        "   - Iteration: Check each path for valid start and end sequences.\n",
        "   - Output:\n",
        "     * Start-End Filtered Strands\n",
        "\n",
        "   ↓\n",
        "(4) Length Filtering\n",
        "   - Use Gel Electrophoresis to isolate paths with correct length.\n",
        "   - Iteration: Filter paths with length = \\(10 \\times N\\) bases.\n",
        "   - Output:\n",
        "     * Length-Filtered Strands\n",
        "\n",
        "   ↓\n",
        "(5) Node Coverage Filtering (Parallel)\n",
        "   - Ensure paths include all vertices at least once.\n",
        "   - Parallel: Paths are checked for node inclusion simultaneously.\n",
        "   - Iteration: Eliminate paths missing any vertex.\n",
        "   - Output:\n",
        "     * Node-Inclusive Strands\n",
        "\n",
        "   ↓\n",
        "(6) Decode Solution\n",
        "   - Decode remaining valid DNA strands into graph nodes.\n",
        "   - Output:\n",
        "     * Hamiltonian Path Solution: ['I', 'L', 'O', 'V', 'E', 'D', 'N', 'A']\n",
        "\n",
        "   ↓\n",
        "[End]\n",
        "\n",
        "Original code source: https://github.com/zobront/dna-computing-simulator/tree/master\n"
      ],
      "metadata": {
        "id": "ssgi_q9f_e4k"
      }
    },
    {
      "cell_type": "code",
      "execution_count": 1,
      "metadata": {
        "colab": {
          "base_uri": "https://localhost:8080/"
        },
        "id": "FnQKGUIe6zad",
        "outputId": "10162e37-5fe1-4752-cdcb-27825005bd5a"
      },
      "outputs": [
        {
          "output_type": "stream",
          "name": "stdout",
          "text": [
            "Vertex Strands Generated: ['TAAAGCGTCC', 'TGTAACCTGA', 'AGTTCCGTTC', 'AAAGGGTGTG', 'GTACTCATCC', 'AAGTGCTACA', 'CTCCGATTCT', 'GTGATCGCAG']\n",
            "\n",
            "Edge Strands Created: ['TAAAGCGTCCTGTAA', 'TAAAGCGTCCAGTTC', 'TAAAGCGTCCAAGTG', 'CCTGAAGTTC', 'CCTGAGTGATCGCAG', 'CGTTCAAAGG', 'GTGTGAGTTC', 'GTGTGAAGTG', 'GTGTGGTACT', 'CATCCAAGTG', 'CTACATGTAA', 'CTACACTCCG', 'ATTCTGTGATCGCAG']\n",
            "\n",
            "Complements Created: ['ATTTCGCAGG', 'ACATTGGACT', 'TCAAGGCAAG', 'TTTCCCACAC', 'CATGAGTAGG', 'TTCACGATGT', 'GAGGCTAAGA', 'CACTAGCGTC']\n"
          ]
        }
      ],
      "source": [
        "import random\n",
        "\n",
        "# STEP 0: PREP\n",
        "# - The experimenters want to create DNA strands that encode for the nodes and edges of a graph\n",
        "# - We will create a graph with 8 vertices (they used 7), and encode the edges between them with a list of tuples\n",
        "# - We will encode each node with a random string of bases 10 bases long (to ensure randomness and to make molecules stable at room temp)\n",
        "# - We'll encode edges with the last 5 bases of the vertex at the start of the edge, and the first 5 of the end of the edge\n",
        "# - Finally, we'll make strands complementary to the vertex strands\n",
        "# - The result is that edges and complementary strands can connect to form random paths through the graph\n",
        "\n",
        "vertex_names = ['I', 'L', 'O', 'V', 'E', 'D', 'N', 'A']\n",
        "V = len(vertex_names)\n",
        "edges = [(0, 1), (0, 2), (0, 5), (1, 2), (1, 7), (2, 3), (3, 2), (3, 5), (3, 4), (4, 5), (5, 1), (5, 6), (6, 7)]\n",
        "\n",
        "pairings = {'A': 'T', 'T': 'A', 'C': 'G', 'G': 'C'}\n",
        "K = 10\n",
        "\n",
        "vertex_strands = [ ''.join([ random.choice(list(pairings.keys())) for _ in range(K) ]) for _ in range(V) ]\n",
        "print(f\"Vertex Strands Generated: {vertex_strands}\")\n",
        "\n",
        "def find_edge_strands(vertices, edges):\n",
        "    edge_strands = [ vertices[v1][(K//2):] + vertices[v2][:(K//2)] for (v1, v2) in edges ]\n",
        "    return [ strand.replace(vertices[0][-(K//2):], vertices[0]).replace(vertices[-1][:(K//2)], vertices[-1]) for strand in edge_strands]\n",
        "\n",
        "edge_strands = find_edge_strands(vertex_strands, edges)\n",
        "print(f\"\\nEdge Strands Created: {edge_strands}\")\n",
        "\n",
        "def find_complement(strand):\n",
        "    output = \"\"\n",
        "    for nuc in strand: output += pairings[nuc]\n",
        "    return output\n",
        "\n",
        "complements = [ find_complement(v) for v in vertex_strands ]\n",
        "print(f\"\\nComplements Created: {complements}\")\n",
        "\n"
      ]
    },
    {
      "cell_type": "code",
      "source": [
        "# STEP 1: CREATE RANDOM PATHS\n",
        "# - With all the DNA prep work done, the experimenters simply had to mix the DNA together to form random paths\n",
        "# - In our case, we will multiply the list of edges by 10k and then allow them to grow when a complement exists to bridge them\n",
        "\n",
        "all_edges = edge_strands * 10000\n",
        "random.shuffle(all_edges)\n",
        "\n",
        "path_strands = []\n",
        "growing_strand = \"\"\n",
        "\n",
        "for idx, s in enumerate(all_edges):\n",
        "    if len(growing_strand) == 0:\n",
        "        growing_strand += s\n",
        "    else:\n",
        "        target_comp = find_complement(growing_strand[-(K//2):]) + find_complement(s[:(K//2)])\n",
        "        if target_comp in complements:\n",
        "            growing_strand += s\n",
        "\n",
        "    if growing_strand[-K:] == vertex_strands[-1]:\n",
        "        path_strands.append(growing_strand)\n",
        "        growing_strand = \"\"\n",
        "\n",
        "print(f\"\\nStrands Created: {len(path_strands)} \")"
      ],
      "metadata": {
        "colab": {
          "base_uri": "https://localhost:8080/"
        },
        "id": "nfiFxFWB7OpH",
        "outputId": "d0b0d859-2d9d-4f29-865c-e4de30052adb"
      },
      "execution_count": 2,
      "outputs": [
        {
          "output_type": "stream",
          "name": "stdout",
          "text": [
            "\n",
            "Strands Created: 3455 \n"
          ]
        }
      ]
    },
    {
      "cell_type": "code",
      "source": [
        "# STEP 2: REMOVE PATHS WITHOUT CORRECT START & END\n",
        "# - When dna is replicated using PCR, you need a primer to allow it to start\n",
        "# - Rather than filtering the bad paths, they replicated it using the correct ends as primers, drowning out the rest\n",
        "\n",
        "in_and_out_strands = [ path for path in path_strands if path[:K] == vertex_strands[0] and path[-K:] == vertex_strands[-1] ]\n",
        "print(f\"\\nStrands Starting at {vertex_names[0]} and Ending at {vertex_names[V-1]}: {len(in_and_out_strands)}\")"
      ],
      "metadata": {
        "colab": {
          "base_uri": "https://localhost:8080/"
        },
        "id": "E8WDRRUt7SJn",
        "outputId": "011f791d-bc26-47a0-946d-5e4e7dfc7e03"
      },
      "execution_count": 3,
      "outputs": [
        {
          "output_type": "stream",
          "name": "stdout",
          "text": [
            "\n",
            "Strands Starting at I and Ending at A: 794\n"
          ]
        }
      ]
    },
    {
      "cell_type": "code",
      "source": [
        "# STEP 3: KEEP ONLY PATHS WITH N VERTICES\n",
        "# - Gel Electrophoresis is a process that lets us filter DNA by length\n",
        "# - We know that for a path to have touched every vertex once, it should have 8 steps, and therefore 10 * 8 nucleotides\n",
        "\n",
        "n_step_paths = [ path for path in in_and_out_strands if len(path) == V * 10 ]\n",
        "print(f\"\\nStrands with {V} Steps: {len(n_step_paths)}\")"
      ],
      "metadata": {
        "colab": {
          "base_uri": "https://localhost:8080/"
        },
        "id": "7SLQNLfd7bXK",
        "outputId": "c8f6ba84-d359-4783-ce54-c0c418f7a5d4"
      },
      "execution_count": 4,
      "outputs": [
        {
          "output_type": "stream",
          "name": "stdout",
          "text": [
            "\n",
            "Strands with 8 Steps: 74\n"
          ]
        }
      ]
    },
    {
      "cell_type": "code",
      "source": [
        "# STEP 4: KEEP ONLY PATHS WITH THAT TOUCH EACH VERTEX AT LEAST ONCE\n",
        "# - How can we check for specific vertices without individually sequencing each of the strands?\n",
        "# - We can \"fish them out\" with the inverse.\n",
        "# - We split the double stranded DNA into single stranded DNA.\n",
        "# - We cover a magnetic bead with the complementary strand to the first vertex we want to check.\n",
        "# - Then we pour the DNA over the bead, and only the strands with that vertex will stick to the complement.\n",
        "# - We take those that stuck, and then repeat the process for the next vertex, until we've done them all.\n",
        "\n",
        "included = n_step_paths\n",
        "for i in range(len(vertex_strands)):\n",
        "    included = [ path for path in included if vertex_strands[i] in path ]\n",
        "    if i == 0 or i == len(vertex_strands) - 1:\n",
        "        print(f\"- Already Checked for {vertex_names[i]}\")\n",
        "    else:\n",
        "        print(f\"- Eliminating Paths Not Including {vertex_names[i]}: {len(included)} Remaining\")\n",
        "print(f\"Strands Including All Vertices >= Once: {len(included)}\")\n",
        "\n",
        "# STEP 5: EXTRACT ANY PATHS THAT REMAIN\n",
        "# - Amplify the remaining DNA with PCR to ensure you have lots of it.\n",
        "# - Decode the sequence of any remaining strand and you will find a path through the graph.\n",
        "\n",
        "solution = included[0]\n",
        "\n",
        "def decode_solution(strand):\n",
        "\tpath = []\n",
        "\tfor i in range(0, len(strand), 10):\n",
        "\t\tvertex_strand = strand[i:i+10]\n",
        "\t\tvertex_num = vertex_strands.index(vertex_strand)\n",
        "\t\tdecoded_letters = vertex_names[vertex_num]\n",
        "\t\tpath.append(decoded_letters)\n",
        "\treturn path\n",
        "\n",
        "path = decode_solution(solution)\n",
        "print(f\"Solution: {str(path)}\")"
      ],
      "metadata": {
        "colab": {
          "base_uri": "https://localhost:8080/"
        },
        "id": "f9pQ2JCu7iOn",
        "outputId": "ff67500f-041e-4e12-ed74-d660ee73f8fc"
      },
      "execution_count": 5,
      "outputs": [
        {
          "output_type": "stream",
          "name": "stdout",
          "text": [
            "- Already Checked for I\n",
            "- Eliminating Paths Not Including L: 59 Remaining\n",
            "- Eliminating Paths Not Including O: 59 Remaining\n",
            "- Eliminating Paths Not Including V: 59 Remaining\n",
            "- Eliminating Paths Not Including E: 35 Remaining\n",
            "- Eliminating Paths Not Including D: 35 Remaining\n",
            "- Eliminating Paths Not Including N: 21 Remaining\n",
            "- Already Checked for A\n",
            "Strands Including All Vertices >= Once: 21\n",
            "Solution: ['I', 'L', 'O', 'V', 'E', 'D', 'N', 'A']\n"
          ]
        }
      ]
    },
    {
      "cell_type": "markdown",
      "source": [],
      "metadata": {
        "id": "bCi-ZyZ4AQOD"
      }
    }
  ]
}